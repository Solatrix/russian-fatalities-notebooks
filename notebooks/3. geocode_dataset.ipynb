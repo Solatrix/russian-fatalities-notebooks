{
 "cells": [
  {
   "attachments": {},
   "cell_type": "markdown",
   "metadata": {},
   "source": [
    "Get latest geolocated data\n",
    "\n",
    "Sort newest ungeolocated data\n",
    "\n",
    "Geolocate ungeolcoated data\n",
    "\n",
    "Output newest geolocated data to geojson\n",
    "\n",
    "Output merged dataset to geojson"
   ]
  },
  {
   "cell_type": "code",
   "execution_count": null,
   "metadata": {
    "vscode": {
     "languageId": "plaintext"
    }
   },
   "outputs": [],
   "source": []
  }
 ],
 "metadata": {
  "language_info": {
   "name": "python"
  },
  "orig_nbformat": 4
 },
 "nbformat": 4,
 "nbformat_minor": 2
}
