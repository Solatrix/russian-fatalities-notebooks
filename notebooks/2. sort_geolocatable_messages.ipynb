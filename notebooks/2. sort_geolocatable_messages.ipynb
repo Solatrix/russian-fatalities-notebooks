{
 "cells": [
  {
   "cell_type": "code",
   "execution_count": 35,
   "metadata": {},
   "outputs": [],
   "source": [
    "import pandas as pd\n",
    "import geopandas as gpd\n",
    "import re\n",
    "import time\n",
    "import calendar"
   ]
  },
  {
   "attachments": {},
   "cell_type": "markdown",
   "metadata": {},
   "source": [
    "Import new data and already geolocated data\n",
    "\n",
    "If new data is not in older dataset, needs to be geocoded\n",
    "\n",
    "Sorts new data requiring geocoding\n",
    "\n",
    "Outputs into two datasets"
   ]
  },
  {
   "attachments": {},
   "cell_type": "markdown",
   "metadata": {},
   "source": [
    "Load datasets"
   ]
  },
  {
   "cell_type": "code",
   "execution_count": 36,
   "metadata": {},
   "outputs": [
    {
     "name": "stderr",
     "output_type": "stream",
     "text": [
      "C:\\Users\\user\\AppData\\Local\\Temp\\ipykernel_7464\\881266929.py:1: DtypeWarning: Columns (21) have mixed types. Specify dtype option on import or set low_memory=False.\n",
      "  source_df = pd.read_csv(\"../poisk_in_ua/poisk_in_ua_messages.csv\")\n"
     ]
    }
   ],
   "source": [
    "source_df = pd.read_csv(\"../poisk_in_ua/poisk_in_ua_messages.csv\")\n",
    "source_df.set_index(\"id\")\n",
    "with open(\"../to_geocode_datasets/1686573190-to_reparse.csv\", encoding=\"utf-8-sig\") as contents:\n",
    "    previous_update = gpd.read_file(contents, driver=\"GeoJSON\")\n"
   ]
  },
  {
   "attachments": {},
   "cell_type": "markdown",
   "metadata": {},
   "source": [
    "Sort new data and old data"
   ]
  },
  {
   "cell_type": "code",
   "execution_count": 37,
   "metadata": {},
   "outputs": [
    {
     "name": "stderr",
     "output_type": "stream",
     "text": [
      "C:\\Users\\user\\AppData\\Local\\Temp\\ipykernel_7464\\2823919503.py:6: SettingWithCopyWarning: \n",
      "A value is trying to be set on a copy of a slice from a DataFrame\n",
      "\n",
      "See the caveats in the documentation: https://pandas.pydata.org/pandas-docs/stable/user_guide/indexing.html#returning-a-view-versus-a-copy\n",
      "  new_locations.rename(columns={\"message_x\":\"message\"}, inplace = True)\n"
     ]
    }
   ],
   "source": [
    "merged_df = source_df.merge(previous_update.drop_duplicates(), on=['id','id'], how='left', indicator=True)\n",
    "merged_df = merged_df[merged_df[\"message_x\"].str.contains(\"погиб\", case = False, na = False)]\n",
    "merged_df = merged_df[~merged_df[\"message_x\"].str.contains(\"Не идентифицирован\", case = False, na = False)]\n",
    "new_locations = merged_df\n",
    "new_locations = new_locations[new_locations['_merge'] == 'left_only']\n",
    "new_locations.rename(columns={\"message_x\":\"message\"}, inplace = True)"
   ]
  },
  {
   "cell_type": "code",
   "execution_count": 38,
   "metadata": {},
   "outputs": [],
   "source": [
    "new_locations = new_locations[[\"id\", \"date_x\", \"message\"]]\n",
    "new_locations = new_locations.rename(columns={\"date_x\" : \"date\"})\n",
    "new_locations = new_locations.dropna(subset=['message'])"
   ]
  },
  {
   "attachments": {},
   "cell_type": "markdown",
   "metadata": {},
   "source": [
    "Sort geolocatable data based on information in the messages"
   ]
  },
  {
   "cell_type": "code",
   "execution_count": 39,
   "metadata": {},
   "outputs": [],
   "source": [
    "def cleanup(msg):\n",
    "    replacement_list = [ \"Респ.\", \"респ.\", \"н.п\", \"аул \",\"Пос.\",\"пгт.\", \"сл.\", \"д.\",\"п.\",\"ст.\", \"с.\", \"р.п.\",  \"г.\", 'ЧВК \"Вагнер\"', \"ул.\", \"х.\", \"c.\", \"р.\", \"сь.\", \"Пгт.\" ,\"Хут.\", \"по \",\"им.\"]\n",
    "    for entry in replacement_list:\n",
    "        if entry.lower() in msg:\n",
    "            msg = msg.lower().replace(entry.lower(), \"\")\n",
    "\n",
    "    rephrasings = ( [\"ской \", \"ская \"], [\"области\", \"область\"], [\"ской области\", \"ская область\"], [\"цкой области\", \"цкая область\"], [\"р-н\", \"район\"], [\"ского района\", \"ский район\"] )\n",
    "    for rephrasing in rephrasings:\n",
    "        if rephrasing[0].lower() in msg.lower():\n",
    "            msg = msg.lower().replace(rephrasing[0].lower(), rephrasing[1].lower())\n",
    "    return msg\n",
    "\n",
    "def contains_village(msg:str, return_label=False):\n",
    "\n",
    "    data:list = msg.split(\"\\n\")\n",
    "    return_value = False\n",
    "    for line in data:\n",
    "        if \"с.\" in line.lower() or \"д.\" in line.lower() or \"п.\" in line.lower() or \"ст.\" in line.lower() and len(line.lower()) < 250:\n",
    "            return_value = True\n",
    "            if return_label:\n",
    "                return_value = (True, cleanup(line))\n",
    "            break\n",
    "    return return_value\n",
    "\n",
    "def contains_city(msg:str, return_label=False):\n",
    "    data:list = msg.split(\"\\n\")\n",
    "    return_value = False       \n",
    "    for line in data:\n",
    "        if \"г.\" in line.lower() and \"г.р.\" not in line.lower() and len(line.lower()) < 250 and re.search(\"\\d{2}\\.\\d{2}\\.\\d{4}\", line.lower()) == None:\n",
    "            return_value = True\n",
    "            if return_label:\n",
    "                return_value = (True, cleanup(line))\n",
    "                break\n",
    "    return return_value\n",
    "\n",
    "def contains_subject(msg, return_label=False):\n",
    "    data:list = msg.split(\"\\n\")\n",
    "    subject_list=[\"край\",\"республик\",\"респ.\",\"округ\",\"област\",\"обл.\", \"район\",\"р-н\"]\n",
    "    for line in data:\n",
    "        for subject in subject_list:\n",
    "            if subject in line.lower() and len(line.lower()) < 250:\n",
    "                if return_label == False:\n",
    "                    return True\n",
    "                else:\n",
    "                    return (True, cleanup(line))\n",
    "            \n",
    "    return False\n",
    "\n",
    "def contains_wagner(msg, return_label=False):\n",
    "    data:list = msg.split(\"\\n\")\n",
    "    filter_str = [ 'ЧВК \"Вагнер\"', 'ЧВК']\n",
    "    for line in data:\n",
    "        for f_str in filter_str:\n",
    "            if f_str.lower() in line.lower() and len(line.lower()) < 250:\n",
    "                if return_label == False:\n",
    "                    return True\n",
    "                else:\n",
    "                    return (True, msg)"
   ]
  },
  {
   "attachments": {},
   "cell_type": "markdown",
   "metadata": {},
   "source": [
    "Launch sorting"
   ]
  },
  {
   "cell_type": "code",
   "execution_count": 40,
   "metadata": {},
   "outputs": [],
   "source": [
    "def launch_geolocation_sorting(input_dataset, message_key=\"message\"):\n",
    "    \n",
    "    areas_to_geolocate = []\n",
    "    not_geolocated = []\n",
    "\n",
    "    for entry in input_dataset.T.to_dict().values():\n",
    "        msg = entry[message_key]\n",
    "\n",
    "        if contains_village(msg):\n",
    "            areas_to_geolocate.append(\n",
    "                    {\n",
    "                        \"id\" : entry['id'],\n",
    "                        \"location\" : contains_village(msg, return_label=True)[1],\n",
    "                        \"message\" : msg,\n",
    "                        \"tag\" : \"village\",\n",
    "                        \"date\": entry[\"date\"]\n",
    "                    }\n",
    "                )\n",
    "            continue\n",
    "\n",
    "        elif contains_city(msg):\n",
    "            areas_to_geolocate.append(\n",
    "                    {          \n",
    "                        \"id\" : entry['id'],\n",
    "                        \"location\" : contains_city(msg, return_label=True)[1],\n",
    "                        \"message\" : msg,\n",
    "                        \"tag\" : \"city\",\n",
    "                        \"date\": entry[\"date\"]\n",
    "                    }\n",
    "                )\n",
    "            continue\n",
    "\n",
    "        elif contains_subject(msg):\n",
    "            areas_to_geolocate.append(\n",
    "                    {\n",
    "                        \"id\" : entry['id'],\n",
    "                        \"location\" : contains_subject(msg, return_label=True)[1],\n",
    "                        \"message\" : msg,\n",
    "                        \"tag\" : \"county\",\n",
    "                        \"date\": entry[\"date\"]\n",
    "                    }\n",
    "                )\n",
    "            continue\n",
    "\n",
    "        else:\n",
    "            not_geolocated.append({\n",
    "                        \"id\" : entry['id'],\n",
    "                        \"message\" : msg,\n",
    "                        \"date\": entry[\"date\"]\n",
    "                    })\n",
    "\n",
    "    return areas_to_geolocate, not_geolocated\n"
   ]
  },
  {
   "attachments": {},
   "cell_type": "markdown",
   "metadata": {},
   "source": [
    "Output sorted data"
   ]
  },
  {
   "cell_type": "code",
   "execution_count": 45,
   "metadata": {},
   "outputs": [],
   "source": [
    "to_geolocate, failures = launch_geolocation_sorting(new_locations)\n"
   ]
  },
  {
   "cell_type": "code",
   "execution_count": 46,
   "metadata": {},
   "outputs": [],
   "source": [
    "to_geolocate_df = pd.DataFrame(to_geolocate)\n",
    "failures_df = pd.DataFrame(failures)\n",
    "timestamp = calendar.timegm(time.gmtime())\n"
   ]
  },
  {
   "cell_type": "code",
   "execution_count": 47,
   "metadata": {},
   "outputs": [],
   "source": [
    "to_geolocate_df.to_csv(f\"../to_geocode_datasets/{timestamp}-@poisk_in_ua-to_geocode.csv\", encoding=\"utf-8-sig\")"
   ]
  }
 ],
 "metadata": {
  "kernelspec": {
   "display_name": "Python 3",
   "language": "python",
   "name": "python3"
  },
  "language_info": {
   "codemirror_mode": {
    "name": "ipython",
    "version": 3
   },
   "file_extension": ".py",
   "mimetype": "text/x-python",
   "name": "python",
   "nbconvert_exporter": "python",
   "pygments_lexer": "ipython3",
   "version": "3.11.3"
  },
  "orig_nbformat": 4
 },
 "nbformat": 4,
 "nbformat_minor": 2
}
