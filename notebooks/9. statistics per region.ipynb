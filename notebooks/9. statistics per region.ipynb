{
 "cells": [
  {
   "cell_type": "code",
   "execution_count": 3,
   "metadata": {},
   "outputs": [],
   "source": [
    "import pandas as pd, geopandas as gpd\n",
    "import calendar, time\n"
   ]
  },
  {
   "cell_type": "code",
   "execution_count": 4,
   "metadata": {},
   "outputs": [],
   "source": [
    "gd_file = \"../geolocated_datasets/1687355357-fatalities_per_region_Russia.json\"\n",
    "gd_crimea = \"../geolocated_datasets/1687355373-Crimea.json\"\n",
    "gd_donbas = \"../geolocated_datasets/1687355377-Donbas.json\"\n",
    "with open(gd_file, encoding=\"utf-8-sig\") as gd_contents:\n",
    "    gdf = gpd.read_file(gd_contents, driver = \"GeoJSON\")\n",
    "\n",
    "with open(gd_crimea, encoding = \"utf-8-sig\") as contents_1:\n",
    "    gdf_crimea = gpd.read_file(contents_1, driver = \"GeoJSON\")\n",
    "\n",
    "with open(gd_donbas, encoding = \"utf-8-sig\") as contents_2:\n",
    "    gdf_donbas = gpd.read_file(contents_2, driver = \"GeoJSON\")"
   ]
  },
  {
   "cell_type": "code",
   "execution_count": 5,
   "metadata": {},
   "outputs": [],
   "source": [
    "df = gdf[[\"name_en\", \"count\"]]\n",
    "df_crimea = gdf_crimea[[\"name_en\", \"count\"]]\n",
    "df_donbas = gdf_donbas[[\"name_en\", \"count\"]]"
   ]
  },
  {
   "cell_type": "code",
   "execution_count": 6,
   "metadata": {},
   "outputs": [],
   "source": [
    "timestamp = calendar.timegm(time.gmtime())\n",
    "df.to_csv(f\"../statistics/{timestamp}-statistics-per-Russian-region.csv\")\n",
    "df_crimea.to_csv(f\"../statistics/{timestamp}-statistics-Crimea.csv\")\n",
    "df_donbas.to_csv(f\"../statistics/{timestamp}-statistics-Donbas.csv\")\n"
   ]
  }
 ],
 "metadata": {
  "kernelspec": {
   "display_name": "Python 3",
   "language": "python",
   "name": "python3"
  },
  "language_info": {
   "codemirror_mode": {
    "name": "ipython",
    "version": 3
   },
   "file_extension": ".py",
   "mimetype": "text/x-python",
   "name": "python",
   "nbconvert_exporter": "python",
   "pygments_lexer": "ipython3",
   "version": "3.11.3"
  },
  "orig_nbformat": 4
 },
 "nbformat": 4,
 "nbformat_minor": 2
}
