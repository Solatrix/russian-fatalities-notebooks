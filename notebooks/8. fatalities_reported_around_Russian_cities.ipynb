{
 "cells": [
  {
   "cell_type": "code",
   "execution_count": 1,
   "metadata": {},
   "outputs": [],
   "source": [
    "import pandas as pd, geopandas as gpd\n",
    "import calendar, time\n",
    "import json"
   ]
  },
  {
   "attachments": {},
   "cell_type": "markdown",
   "metadata": {},
   "source": [
    "Load fatalities dataset\n",
    "Load cities shapefile"
   ]
  },
  {
   "cell_type": "code",
   "execution_count": 2,
   "metadata": {},
   "outputs": [],
   "source": [
    "cities = gpd.read_file(\"../shp/Russian cities.shp\",crs={'init' :'epsg:4326'})\n",
    "cities = cities[[\"NAME\", \"geometry\"]]\n",
    "source = \"../geolocated_datasets/1686574174R-geolocated-@poisk_in_ua.json\"\n",
    "with open(source, encoding = \"utf-8-sig\") as source_file:\n",
    "    source_gdf = gpd.read_file(source_file, driver = \"GeoJSON\")"
   ]
  },
  {
   "attachments": {},
   "cell_type": "markdown",
   "metadata": {},
   "source": [
    "Convert both datasest to ESPG:3857 to allow use of meter system"
   ]
  },
  {
   "cell_type": "code",
   "execution_count": 3,
   "metadata": {},
   "outputs": [],
   "source": [
    "source_gdf = source_gdf.to_crs(3857)"
   ]
  },
  {
   "attachments": {},
   "cell_type": "markdown",
   "metadata": {},
   "source": [
    "Create buffer of 10kms"
   ]
  },
  {
   "cell_type": "code",
   "execution_count": 4,
   "metadata": {},
   "outputs": [],
   "source": [
    "buffer_distance = 10 * 1000\n",
    "cities['lon'] = cities[\"geometry\"].x\n",
    "cities['lat'] = cities[\"geometry\"].y\n",
    "cities_buffer = cities.to_crs(3857)\n",
    "\n",
    "cities_buffer.geometry = cities_buffer.buffer(buffer_distance)"
   ]
  },
  {
   "attachments": {},
   "cell_type": "markdown",
   "metadata": {},
   "source": [
    "Spatial join on buffers overlapping with fatalities dataset"
   ]
  },
  {
   "cell_type": "code",
   "execution_count": 5,
   "metadata": {},
   "outputs": [],
   "source": [
    "pointsOnCity = gpd.sjoin(source_gdf, cities_buffer, how=\"right\")\n",
    "pointsOnCity['count']=1\n",
    "fatalities_per_city = pointsOnCity.groupby('NAME').agg({'geometry':'first', 'lat':'first', 'lon':'first', 'count':'sum'}).reset_index()\n",
    "fatalities_per_city.set_geometry(\"geometry\", crs = \"EPSG:4326\", inplace = True)"
   ]
  },
  {
   "cell_type": "code",
   "execution_count": 6,
   "metadata": {},
   "outputs": [
    {
     "data": {
      "text/html": [
       "<div>\n",
       "<style scoped>\n",
       "    .dataframe tbody tr th:only-of-type {\n",
       "        vertical-align: middle;\n",
       "    }\n",
       "\n",
       "    .dataframe tbody tr th {\n",
       "        vertical-align: top;\n",
       "    }\n",
       "\n",
       "    .dataframe thead th {\n",
       "        text-align: right;\n",
       "    }\n",
       "</style>\n",
       "<table border=\"1\" class=\"dataframe\">\n",
       "  <thead>\n",
       "    <tr style=\"text-align: right;\">\n",
       "      <th></th>\n",
       "      <th>NAME</th>\n",
       "      <th>geometry</th>\n",
       "      <th>lat</th>\n",
       "      <th>lon</th>\n",
       "      <th>count</th>\n",
       "    </tr>\n",
       "  </thead>\n",
       "  <tbody>\n",
       "    <tr>\n",
       "      <th>0</th>\n",
       "      <td>Abakan</td>\n",
       "      <td>POLYGON ((10189611.05823 7114236.22653, 101895...</td>\n",
       "      <td>53.703685</td>\n",
       "      <td>91.445002</td>\n",
       "      <td>1</td>\n",
       "    </tr>\n",
       "    <tr>\n",
       "      <th>1</th>\n",
       "      <td>Aldan</td>\n",
       "      <td>POLYGON ((13968283.04568 8095069.80672, 139682...</td>\n",
       "      <td>58.602998</td>\n",
       "      <td>125.389390</td>\n",
       "      <td>1</td>\n",
       "    </tr>\n",
       "    <tr>\n",
       "      <th>2</th>\n",
       "      <td>Angarsk</td>\n",
       "      <td>POLYGON ((11578321.79493 6902022.32842, 115782...</td>\n",
       "      <td>52.560007</td>\n",
       "      <td>103.920003</td>\n",
       "      <td>1</td>\n",
       "    </tr>\n",
       "    <tr>\n",
       "      <th>3</th>\n",
       "      <td>Archangel</td>\n",
       "      <td>POLYGON ((4523449.65590 9497294.04510, 4523401...</td>\n",
       "      <td>64.574959</td>\n",
       "      <td>40.545008</td>\n",
       "      <td>1</td>\n",
       "    </tr>\n",
       "    <tr>\n",
       "      <th>4</th>\n",
       "      <td>Astrakhan</td>\n",
       "      <td>POLYGON ((5359456.90556 5836398.61967, 5359408...</td>\n",
       "      <td>46.348655</td>\n",
       "      <td>48.054989</td>\n",
       "      <td>1</td>\n",
       "    </tr>\n",
       "    <tr>\n",
       "      <th>...</th>\n",
       "      <td>...</td>\n",
       "      <td>...</td>\n",
       "      <td>...</td>\n",
       "      <td>...</td>\n",
       "      <td>...</td>\n",
       "    </tr>\n",
       "    <tr>\n",
       "      <th>72</th>\n",
       "      <td>Yakutsk</td>\n",
       "      <td>POLYGON ((14452035.94144 8867436.89558, 144519...</td>\n",
       "      <td>62.034959</td>\n",
       "      <td>129.735016</td>\n",
       "      <td>1</td>\n",
       "    </tr>\n",
       "    <tr>\n",
       "      <th>73</th>\n",
       "      <td>Yaroslavl</td>\n",
       "      <td>POLYGON ((4448309.26678 7887907.92460, 4448261...</td>\n",
       "      <td>57.619983</td>\n",
       "      <td>39.870010</td>\n",
       "      <td>1</td>\n",
       "    </tr>\n",
       "    <tr>\n",
       "      <th>74</th>\n",
       "      <td>Yekaterinburg</td>\n",
       "      <td>POLYGON ((6755740.03930 7729923.79958, 6755691...</td>\n",
       "      <td>56.851976</td>\n",
       "      <td>60.598014</td>\n",
       "      <td>1</td>\n",
       "    </tr>\n",
       "    <tr>\n",
       "      <th>75</th>\n",
       "      <td>Yuzhno Sakhalinsk</td>\n",
       "      <td>POLYGON ((15899745.28469 5936358.87577, 158996...</td>\n",
       "      <td>46.964974</td>\n",
       "      <td>142.740011</td>\n",
       "      <td>1</td>\n",
       "    </tr>\n",
       "    <tr>\n",
       "      <th>76</th>\n",
       "      <td>Zhigansk</td>\n",
       "      <td>POLYGON ((13743609.73379 10090757.12638, 13743...</td>\n",
       "      <td>66.769709</td>\n",
       "      <td>123.371115</td>\n",
       "      <td>1</td>\n",
       "    </tr>\n",
       "  </tbody>\n",
       "</table>\n",
       "<p>77 rows × 5 columns</p>\n",
       "</div>"
      ],
      "text/plain": [
       "                 NAME                                           geometry  \\\n",
       "0              Abakan  POLYGON ((10189611.05823 7114236.22653, 101895...   \n",
       "1               Aldan  POLYGON ((13968283.04568 8095069.80672, 139682...   \n",
       "2             Angarsk  POLYGON ((11578321.79493 6902022.32842, 115782...   \n",
       "3           Archangel  POLYGON ((4523449.65590 9497294.04510, 4523401...   \n",
       "4           Astrakhan  POLYGON ((5359456.90556 5836398.61967, 5359408...   \n",
       "..                ...                                                ...   \n",
       "72            Yakutsk  POLYGON ((14452035.94144 8867436.89558, 144519...   \n",
       "73          Yaroslavl  POLYGON ((4448309.26678 7887907.92460, 4448261...   \n",
       "74      Yekaterinburg  POLYGON ((6755740.03930 7729923.79958, 6755691...   \n",
       "75  Yuzhno Sakhalinsk  POLYGON ((15899745.28469 5936358.87577, 158996...   \n",
       "76           Zhigansk  POLYGON ((13743609.73379 10090757.12638, 13743...   \n",
       "\n",
       "          lat         lon  count  \n",
       "0   53.703685   91.445002      1  \n",
       "1   58.602998  125.389390      1  \n",
       "2   52.560007  103.920003      1  \n",
       "3   64.574959   40.545008      1  \n",
       "4   46.348655   48.054989      1  \n",
       "..        ...         ...    ...  \n",
       "72  62.034959  129.735016      1  \n",
       "73  57.619983   39.870010      1  \n",
       "74  56.851976   60.598014      1  \n",
       "75  46.964974  142.740011      1  \n",
       "76  66.769709  123.371115      1  \n",
       "\n",
       "[77 rows x 5 columns]"
      ]
     },
     "execution_count": 6,
     "metadata": {},
     "output_type": "execute_result"
    }
   ],
   "source": [
    "fatalities_per_city"
   ]
  },
  {
   "attachments": {},
   "cell_type": "markdown",
   "metadata": {},
   "source": [
    "Export dataset to geolocated_dataset folder"
   ]
  },
  {
   "cell_type": "code",
   "execution_count": 7,
   "metadata": {},
   "outputs": [
    {
     "data": {
      "text/plain": [
       "215340"
      ]
     },
     "execution_count": 7,
     "metadata": {},
     "output_type": "execute_result"
    }
   ],
   "source": [
    "timestamp = calendar.timegm(time.gmtime())\n",
    "fatalities_per_city_fn = f\"../geolocated_datasets/{timestamp}-geolocated_fatalities_per_city.json\"\n",
    "output_file = open(fatalities_per_city_fn, \"w\", encoding=\"utf-8-sig\")\n",
    "contents = fatalities_per_city.to_json()\n",
    "output_file.write(contents)"
   ]
  }
 ],
 "metadata": {
  "kernelspec": {
   "display_name": "Python 3",
   "language": "python",
   "name": "python3"
  },
  "language_info": {
   "codemirror_mode": {
    "name": "ipython",
    "version": 3
   },
   "file_extension": ".py",
   "mimetype": "text/x-python",
   "name": "python",
   "nbconvert_exporter": "python",
   "pygments_lexer": "ipython3",
   "version": "3.11.3"
  },
  "orig_nbformat": 4
 },
 "nbformat": 4,
 "nbformat_minor": 2
}
