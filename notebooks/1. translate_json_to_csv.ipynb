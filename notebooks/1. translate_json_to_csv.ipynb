{
 "cells": [
  {
   "cell_type": "code",
   "execution_count": 1,
   "metadata": {},
   "outputs": [],
   "source": [
    "import json\n",
    "import pandas"
   ]
  },
  {
   "attachments": {},
   "cell_type": "markdown",
   "metadata": {},
   "source": [
    "Extracts contents of poisk_in_ua_messages.json\n",
    "\n",
    "Saves contents of messages dictionary to poisk_in_ua_messages.csv"
   ]
  },
  {
   "cell_type": "code",
   "execution_count": 3,
   "metadata": {},
   "outputs": [],
   "source": [
    "with open(\"../poisk_in_ua/poisk_in_ua_messages.json\", encoding=\"utf-8-sig\") as file:\n",
    "    dataset = json.load(file)[\"messages\"]\n",
    "    dataset_df = pandas.DataFrame(dataset)\n",
    "    dataset_df.to_csv(\"../poisk_in_ua/poisk_in_ua_messages.csv\")"
   ]
  }
 ],
 "metadata": {
  "kernelspec": {
   "display_name": "Python 3",
   "language": "python",
   "name": "python3"
  },
  "language_info": {
   "codemirror_mode": {
    "name": "ipython",
    "version": 3
   },
   "file_extension": ".py",
   "mimetype": "text/x-python",
   "name": "python",
   "nbconvert_exporter": "python",
   "pygments_lexer": "ipython3",
   "version": "3.11.3"
  },
  "orig_nbformat": 4
 },
 "nbformat": 4,
 "nbformat_minor": 2
}
